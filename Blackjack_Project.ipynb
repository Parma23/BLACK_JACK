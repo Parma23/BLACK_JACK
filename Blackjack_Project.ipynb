{
 "cells": [
  {
   "attachments": {},
   "cell_type": "markdown",
   "metadata": {},
   "source": [
    "## Python Blackjack\n",
    "For this project you will make a Blackjack game using Python. Click [here](https://www.cs.mcgill.ca/~rwest/wikispeedia/wpcd/wp/b/Blackjack.htm#:~:text=Rules,king%20are%20also%20worth%2010.) to familiarize yourself with the the rules of the game. You won't be implementing every rule \"down to the letter\" with the game, but we will doing a simpler version of the game. This assignment will be given to further test your knowledge on object-oriented programming concepts.\n",
    "### Rules:\n",
    "`1. ` The game will have two players: the Dealer and the Player. The game will start off with a deck of 52 cards. The 52 cards will consist of 4 different suits: Clubs, Diamonds, Hearts and Spades. For each suit, there will be cards numbered 1 through 13. <br>\n",
    "\n",
    "**Note: No wildcards will be used in the program**\n",
    "\n",
    "`2. ` When the game begins, the dealer will shuffle the deck of cards, making them randomized. After the dealer shuffles, it will deal the player 2 cards and will deal itself 2 cards from. The Player should be able to see both of their own cards, but should only be able to see one of the Dealer's cards.\n",
    " \n",
    "`3. ` The objective of the game is for the Player to count their cards after they're dealt. If they're not satisfied with the number, they have the ability to 'Hit'. A hit allows the dealer to deal the Player one additional card. The Player can hit as many times as they'd like as long as they don't 'Bust'. A bust is when the Player is dealt cards that total more than 21.\n",
    "\n",
    "`4. ` If the dealer deals the Player cards equal to 21 on the **first** deal, the Player wins. This is referred to as Blackjack. Blackjack is **NOT** the same as getting cards that equal up to 21 after the first deal. Blackjack can only be attained on the first deal.\n",
    "\n",
    "`5. ` The Player will never see the Dealer's hand until the Player chooses to 'stand'. A Stand is when the player tells the dealer to not deal it anymore cards. Once the player chooses to Stand, the Player and the Dealer will compare their hands. Whoever has the higher number wins. Keep in mind that the Dealer can also bust. \n",
    "\n",
    "***This will be an exercise of how well you understand OOP(Object Oriented Programming). In this project, you will be using \"Pair-Programming\" to complete the assignment.*** \n",
    "\n",
    "***Pair-programming is the use of two developers(sometimes 3 ) to solve a particular problem. Usually, one developer will write the code and the other(s) will give suggestions on what should be in the code.***\n",
    "\n",
    "***However, our assignment calls for a bit more custom \"Pairs\". So, each of you will need to write your code using the code of the main person. For example, if there are two of you in a \"Pair\", you will start by one giving suggestions on what to write, the other will write the code. After the code has been written, the \"suggestion giver\" will then write the same code in their own file line by line. This is to foster the thought process of software development, but also the muscle memory of writing what you're thinking..***"
   ]
  },
  {
   "cell_type": "code",
   "execution_count": 2,
   "metadata": {},
   "outputs": [
    {
     "ename": "IndentationError",
     "evalue": "unindent does not match any outer indentation level (<tokenize>, line 34)",
     "output_type": "error",
     "traceback": [
      "\u001b[0;36m  File \u001b[0;32m<tokenize>:34\u001b[0;36m\u001b[0m\n\u001b[0;31m    def get_deck(self):\u001b[0m\n\u001b[0m    ^\u001b[0m\n\u001b[0;31mIndentationError\u001b[0m\u001b[0;31m:\u001b[0m unindent does not match any outer indentation level\n"
     ]
    }
   ],
   "source": [
    "import random\n",
    "playerIn = True\n",
    "dealerIn = True\n",
    "\n",
    "# deck of cards / player dealer hand\n",
    "deck = ['2','3','4', '5','6','7','8','9', '10','2','3','4', '5','6','7',\n",
    "        '8','9', '10','2','3','4', '5','6','7','8','9', '10','2','3','4',\n",
    "        '5','6','7','8','9', '10', \n",
    "        'J','Q','K', 'A', 'J','Q','K', 'A','J','Q','K', 'A','J','Q','K', 'A']\n",
    "palyer_hand = []\n",
    "dear_hand = []\n",
    "                \n",
    "    pass \n",
    "\n",
    "    #Create a constructor method for each deck - each deck should have a defined suit,numbers, and sets\n",
    "   # deal the cards \n",
    "def dealcard(turn)\n",
    "    card = random.choice(deck)\n",
    "    turn.append(card)\n",
    "    deck.remove(card)\n",
    "\n",
    "    #calculate the total of each hand\n",
    "def total(turn):\n",
    "    total = 0\n",
    "    face =['J','Q','K', 'A']\n",
    "    for card in turn:\n",
    "        if card in range of (1, 11):\n",
    "            total += Card\n",
    "        elif card in face:\n",
    "            total+= 10\n",
    "        else:\n",
    "            if total > 11:\n",
    "                total +=1\n",
    "            else:\n",
    "                total += 11 \n",
    "    return total\n",
    "\n",
    "\n",
    "    \n",
    "    # check for winner\n",
    "def revealdealer_hand():\n",
    "    if len(dealer_hand)==2:\n",
    "        return delear_hand[0]\n",
    "    elif len(delear_hand) > 2:\n",
    "        return delear_hand[0], delear_hand[1]\n",
    "    \n",
    "        \n",
    " # game loop\n",
    "for _ in range(2):\n",
    "    dealcard(delear_hand)\n",
    "    dealcard(player_hand)     \n",
    "\n",
    "\n",
    "while playerIn or dealerIn:\n",
    "    print(f\"Dealer had {revealdealer_hand()} and X\")\n",
    "    print (f\" You have {player_hand} for a total of {total(player_hand)}\")\n",
    "           if playerIn:\n",
    "                stayOrHit =input(\"1: stay\\n2: Hit\\n\")\n",
    "            if total(delear_hand)> 16:\n",
    "                dealerIn = False\n",
    "            else:\n",
    "                dealcard(dealer_hand)\n",
    "            if stayOrHit == '1':\n",
    "                playerIn = False\n",
    "            else:\n",
    "                dealcard(player_hand)\n",
    "            if total(player_hand) >= 21:\n",
    "                break\n",
    "            elif total(dealer_hand)>= 21:\n",
    "                break    \n",
    "\n",
    "        if total(player_hand) == 21\n",
    "            print( f\"\\n You have {player_hand} for a total of {player_hand} and the dealer has {dealer_hand} for a total of  {total(dealer_hand)}\")\n",
    "            print(Blackjack ! You Win )\n",
    "        elif total (dealer_hand) == 21:\n",
    "            print( f\"\\n You have {player_hand} for a total of {player_hand} and the dealer has {dealer_hand} for a total of  {total(dealer_hand)}\")\n",
    "            print(\"Blackjack! Dealer wins\")\n",
    "\n",
    "        elif total(player_hand)> 21:\n",
    "            print( f\"\\n You have {player_hand} for a total of {player_hand} and the dealer has {dealer_hand} for a total of  {total(dealer_hand)}\")\n",
    "            print(you bust ! Dealer wins)\n",
    "        elif total(dealer_hand)> 21:\n",
    "            print( f\"\\n You have {player_hand} for a total of {player_hand} and the dealer has {dealer_hand} for a total of  {total(dealer_hand)}\")\n",
    "            print(\"Dealer bust! you win \")    \n",
    "     # if both stay, who wins\n",
    "\n",
    "     elif 21 - total(dealer_hand)< 21 - total(player_hand):\n",
    "            print( f\"\\n You have {player_hand} for a total of {player_hand} and the dealer has {dealer_hand} for a total of  {total(dealer_hand)}\")\n",
    "            print(\"Dealer wins\")\n",
    "    elif 21 - total(dealer_hand) > 21 - total(player_hand):\n",
    "         print( f\"\\n You have {player_hand} for a total of {player_hand} and the dealer has {dealer_hand} for a total of  {total(dealer_hand)}\")\n",
    "         print(\"You win\")      \n",
    "   \n",
    "    "
   ]
  },
  {
   "cell_type": "code",
   "execution_count": 9,
   "metadata": {
    "scrolled": false
   },
   "outputs": [
    {
     "name": "stdout",
     "output_type": "stream",
     "text": [
      "Dealer Bust\n",
      "==============================\n",
      "Player wins!\n",
      "==============================\n",
      "Player hand: [('Hearts', 6), ('Diamonds', 2), ('Spades', 6), ('Diamonds', 3)]: 17\n",
      "Dealer hand: [('Spades', 5), ('Clubs', 5), ('Diamonds', 12)]: 22\n"
     ]
    }
   ],
   "source": [
    "main()\n",
    "\n",
    "#Expected output based on the outcome of the game - Below is what should happen when the player wins\n",
    "\n",
    "# #Dealer Bust\n",
    "# =============================\n",
    "# Player wins!\n",
    "# ==============================\n",
    "# Player hand: [('Hearts', 6), ('Diamonds', 2), ('Spades', 6), ('Diamonds', 3)]: 17\n",
    "# Dealer hand: [('Spades', 5), ('Clubs', 5), ('Diamonds', 12)]: 22"
   ]
  }
 ],
 "metadata": {
  "kernelspec": {
   "display_name": "Python 3",
   "language": "python",
   "name": "python3"
  },
  "language_info": {
   "codemirror_mode": {
    "name": "ipython",
    "version": 3
   },
   "file_extension": ".py",
   "mimetype": "text/x-python",
   "name": "python",
   "nbconvert_exporter": "python",
   "pygments_lexer": "ipython3",
   "version": "3.11.3"
  }
 },
 "nbformat": 4,
 "nbformat_minor": 2
}
